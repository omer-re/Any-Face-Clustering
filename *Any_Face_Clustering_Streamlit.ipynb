{
  "nbformat": 4,
  "nbformat_minor": 0,
  "metadata": {
    "colab": {
      "name": "*Any_Face_Clustering_Streamlit.ipynb",
      "provenance": [],
      "collapsed_sections": [],
      "authorship_tag": "ABX9TyPa+AVC5ar5hqFWT2l9tqXD",
      "include_colab_link": true
    },
    "kernelspec": {
      "name": "python3",
      "display_name": "Python 3"
    },
    "language_info": {
      "name": "python"
    },
    "accelerator": "GPU"
  },
  "cells": [
    {
      "cell_type": "markdown",
      "metadata": {
        "id": "view-in-github",
        "colab_type": "text"
      },
      "source": [
        "<a href=\"https://colab.research.google.com/github/souvikmajumder26/Any-Face-Clustering/blob/main/*Any_Face_Clustering_Streamlit.ipynb\" target=\"_parent\"><img src=\"https://colab.research.google.com/assets/colab-badge.svg\" alt=\"Open In Colab\"/></a>"
      ]
    },
    {
      "cell_type": "code",
      "source": [
        "!pip install face_recognition"
      ],
      "metadata": {
        "colab": {
          "base_uri": "https://localhost:8080/"
        },
        "id": "C__Z0EwvIPbN",
        "outputId": "4ee685ec-3a22-4ac2-c99e-963ebcc25648"
      },
      "execution_count": null,
      "outputs": [
        {
          "output_type": "stream",
          "name": "stdout",
          "text": [
            "Collecting face_recognition\n",
            "  Downloading face_recognition-1.3.0-py2.py3-none-any.whl (15 kB)\n",
            "Requirement already satisfied: dlib>=19.7 in /usr/local/lib/python3.7/dist-packages (from face_recognition) (19.18.0)\n",
            "Requirement already satisfied: numpy in /usr/local/lib/python3.7/dist-packages (from face_recognition) (1.21.5)\n",
            "Requirement already satisfied: Click>=6.0 in /usr/local/lib/python3.7/dist-packages (from face_recognition) (7.1.2)\n",
            "Collecting face-recognition-models>=0.3.0\n",
            "  Downloading face_recognition_models-0.3.0.tar.gz (100.1 MB)\n",
            "\u001b[K     |████████████████████████████████| 100.1 MB 19 kB/s \n",
            "\u001b[?25hRequirement already satisfied: Pillow in /usr/local/lib/python3.7/dist-packages (from face_recognition) (7.1.2)\n",
            "Building wheels for collected packages: face-recognition-models\n",
            "  Building wheel for face-recognition-models (setup.py) ... \u001b[?25l\u001b[?25hdone\n",
            "  Created wheel for face-recognition-models: filename=face_recognition_models-0.3.0-py2.py3-none-any.whl size=100566186 sha256=6be8ea30ca7d40b1a77cf0d0d04c5067e61ce698d6329385ba76dab919c58675\n",
            "  Stored in directory: /root/.cache/pip/wheels/d6/81/3c/884bcd5e1c120ff548d57c2ecc9ebf3281c9a6f7c0e7e7947a\n",
            "Successfully built face-recognition-models\n",
            "Installing collected packages: face-recognition-models, face-recognition\n",
            "Successfully installed face-recognition-1.3.0 face-recognition-models-0.3.0\n"
          ]
        }
      ]
    },
    {
      "cell_type": "code",
      "source": [
        "!pip install -q streamlit"
      ],
      "metadata": {
        "colab": {
          "base_uri": "https://localhost:8080/"
        },
        "id": "qTKaNhlYIOCW",
        "outputId": "f473d136-f392-4a3d-bcf2-653772c679ec"
      },
      "execution_count": null,
      "outputs": [
        {
          "output_type": "stream",
          "name": "stdout",
          "text": [
            "\u001b[K     |████████████████████████████████| 9.9 MB 2.7 MB/s \n",
            "\u001b[K     |████████████████████████████████| 111 kB 65.3 MB/s \n",
            "\u001b[K     |████████████████████████████████| 4.3 MB 39.3 MB/s \n",
            "\u001b[K     |████████████████████████████████| 181 kB 36.8 MB/s \n",
            "\u001b[K     |████████████████████████████████| 76 kB 4.6 MB/s \n",
            "\u001b[K     |████████████████████████████████| 164 kB 42.0 MB/s \n",
            "\u001b[K     |████████████████████████████████| 63 kB 1.6 MB/s \n",
            "\u001b[K     |████████████████████████████████| 130 kB 20.4 MB/s \n",
            "\u001b[K     |████████████████████████████████| 793 kB 5.9 MB/s \n",
            "\u001b[K     |████████████████████████████████| 380 kB 55.6 MB/s \n",
            "\u001b[?25h  Building wheel for blinker (setup.py) ... \u001b[?25l\u001b[?25hdone\n",
            "\u001b[31mERROR: pip's dependency resolver does not currently take into account all the packages that are installed. This behaviour is the source of the following dependency conflicts.\n",
            "jupyter-console 5.2.0 requires prompt-toolkit<2.0.0,>=1.0.0, but you have prompt-toolkit 3.0.28 which is incompatible.\n",
            "google-colab 1.0.0 requires ipykernel~=4.10, but you have ipykernel 6.9.2 which is incompatible.\n",
            "google-colab 1.0.0 requires ipython~=5.5.0, but you have ipython 7.32.0 which is incompatible.\u001b[0m\n"
          ]
        }
      ]
    },
    {
      "cell_type": "code",
      "execution_count": null,
      "metadata": {
        "colab": {
          "base_uri": "https://localhost:8080/"
        },
        "id": "crRKryXsH5mL",
        "outputId": "826312c9-60b4-40fb-d301-2079f64fdd08"
      },
      "outputs": [
        {
          "output_type": "stream",
          "name": "stdout",
          "text": [
            "Writing streamlit-app.py\n"
          ]
        }
      ],
      "source": [
        "%%writefile streamlit-app.py\n",
        "\n",
        "import cv2\n",
        "import face_recognition\n",
        "\n",
        "import os\n",
        "import tempfile\n",
        "import numpy as np\n",
        "import streamlit as st\n",
        "\n",
        "from sklearn.cluster import DBSCAN\n",
        "from imutils import build_montages\n",
        "\n",
        "\n",
        "st.title(\"Any Face Clustering\")\n",
        "\n",
        "uploaded_files = st.file_uploader(\"Upload Images :\", accept_multiple_files = True)\n",
        "\n",
        "try:\n",
        "  if uploaded_files is not None:\n",
        "    data = []\n",
        "    for f in uploaded_files:\n",
        "      tfile = tempfile.NamedTemporaryFile(delete=False)\n",
        "      tfile.write(f.read())\n",
        "      image = cv2.imread(tfile.name)\n",
        "      rgb = cv2.cvtColor(image, cv2.COLOR_BGR2RGB)\n",
        "      #st.write(rgb)\n",
        "      #st.image(rgb)\n",
        "      boxes = face_recognition.face_locations(rgb, model = \"cnn\")\n",
        "      encodings = face_recognition.face_encodings(rgb, boxes)\n",
        "      #st.write(boxes)\n",
        "      #st.write(encodings)\n",
        "      d = [{\"imagePath\": tfile.name, \"loc\": box, \"encoding\": enc} for (box, enc) in zip(boxes, encodings)]\n",
        "      data.extend(d)\n",
        "    # converting the data into a numpy array\n",
        "    data_arr = np.array(data)\n",
        "    # extracting the 128-d facial encodings and placing them in a list\n",
        "    encodings_arr = [item[\"encoding\"] for item in data_arr]\n",
        "\n",
        "    # initializing and fitting the clustering model on the encoded data\n",
        "    cluster = DBSCAN().fit(encodings_arr)\n",
        "    #st.write(data)\n",
        "    #st.write(data_arr)\n",
        "    #st.write(np.shape(encodings_arr))\n",
        "    #st.write(encodings_arr)  \n",
        "    st.write(\"Model Fit: SUCCESS\")\n",
        "    #st.write(cluster.n_features_in_)\n",
        "    #st.write(cluster.labels_)\n",
        "    \n",
        "    labelIDs = np.unique(cluster.labels_)\n",
        "    numUniqueFaces = len(np.where(labelIDs > -1)[0])\n",
        "    \n",
        "    st.write(\"Number of unique faces identified:\", numUniqueFaces)\n",
        "    #st.write(labelIDs)\n",
        "\n",
        "    # loop over the unique face integers\n",
        "    for labelID in labelIDs:\n",
        "      # find all indexes into the 'pkl_data' array that belong to the current label ID, then randomly sample a maximum of 15 indexes from the set\n",
        "      #print(\"[INFO] faces for face ID: {}\".format(labelID))\n",
        "      idxs = np.where(cluster.labels_ == labelID)[0]\n",
        "      idxs = np.random.choice(idxs, size = min(15, len(idxs)), replace = False)\n",
        "      # initialize the list of faces to include in the montage\n",
        "      faces = []\n",
        "      \n",
        "      for i in idxs:\n",
        "        # load the input image and extract the face ROI\n",
        "        current_image = cv2.imread(data_arr[i][\"imagePath\"])\n",
        "        rgb_current_image = cv2.cvtColor(current_image, cv2.COLOR_BGR2RGB)\n",
        "        (top, right, bottom, left) = data_arr[i][\"loc\"]\n",
        "        current_face = rgb_current_image[top:bottom, left:right]\n",
        "        # force resize the face ROI to 96x96 and then add it to the faces montage list\n",
        "        current_face = cv2.resize(current_face, (96, 96))\n",
        "        faces.append(current_face)\n",
        "        \n",
        "      # create a montage using 96x96 \"tiles\" with 5 rows and 5 columns\n",
        "      montage = build_montages(faces, (96, 96), (3, 3))[0]\n",
        "      \n",
        "      # show the output montage\n",
        "      current_title = \"Face ID #{}\".format(labelID)\n",
        "      current_title = \"Unknown Faces\" if labelID == -1 else current_title\n",
        "      #cv2_imshow(montage)\n",
        "      st.write(current_title)\n",
        "      st.image(montage)\n",
        "  else:\n",
        "    st.write(\"Please wait for the images to be uploaded...\")\n",
        "except:\n",
        "  pass"
      ]
    },
    {
      "cell_type": "code",
      "source": [
        "!ls"
      ],
      "metadata": {
        "colab": {
          "base_uri": "https://localhost:8080/"
        },
        "id": "F-K7pQv2VGp8",
        "outputId": "e9c7457e-db04-4aad-ac60-dd9349d51a95"
      },
      "execution_count": null,
      "outputs": [
        {
          "output_type": "stream",
          "name": "stdout",
          "text": [
            "sample_data  streamlit-app.py\n"
          ]
        }
      ]
    },
    {
      "cell_type": "code",
      "source": [
        "!streamlit run streamlit-app.py & npx localtunnel --port 8501"
      ],
      "metadata": {
        "colab": {
          "base_uri": "https://localhost:8080/"
        },
        "id": "FCuFtBZLW7vc",
        "outputId": "3de86b4b-c6ca-451c-9236-6504faf9e4e6"
      },
      "execution_count": null,
      "outputs": [
        {
          "output_type": "stream",
          "name": "stdout",
          "text": [
            "2022-03-16 21:40:14.443 INFO    numexpr.utils: NumExpr defaulting to 2 threads.\n",
            "\u001b[0m\n",
            "\u001b[34m\u001b[1m  You can now view your Streamlit app in your browser.\u001b[0m\n",
            "\u001b[0m\n",
            "\u001b[34m  Network URL: \u001b[0m\u001b[1mhttp://172.28.0.2:8501\u001b[0m\n",
            "\u001b[34m  External URL: \u001b[0m\u001b[1mhttp://35.237.60.41:8501\u001b[0m\n",
            "\u001b[0m\n",
            "\u001b[K\u001b[?25hnpx: installed 22 in 6.144s\n",
            "your url is: https://nasty-dragonfly-70.loca.lt\n",
            "2022-03-16 21:40:54.747 Traceback (most recent call last):\n",
            "  File \"/usr/local/lib/python3.7/dist-packages/streamlit/script_runner.py\", line 430, in _run_script\n",
            "    exec(code, module.__dict__)\n",
            "  File \"/content/streamlit-app.py\", line 3, in <module>\n",
            "    import face_recognition\n",
            "  File \"/usr/local/lib/python3.7/dist-packages/face_recognition/__init__.py\", line 7, in <module>\n",
            "    from .api import load_image_file, face_locations, batch_face_locations, face_landmarks, face_encodings, compare_faces, face_distance\n",
            "  File \"/usr/local/lib/python3.7/dist-packages/face_recognition/api.py\", line 26, in <module>\n",
            "    cnn_face_detector = dlib.cnn_face_detection_model_v1(cnn_face_detection_model)\n",
            "RuntimeError: Error while calling cudaGetDevice(&the_device_id) in file /tmp/pip-wheel-mmuzni47/dlib/dlib/cuda/gpu_data.cpp:201. code: 100, reason: no CUDA-capable device is detected\n",
            "\n",
            "\u001b[34m  Stopping...\u001b[0m\n",
            "^C\n"
          ]
        }
      ]
    }
  ]
}